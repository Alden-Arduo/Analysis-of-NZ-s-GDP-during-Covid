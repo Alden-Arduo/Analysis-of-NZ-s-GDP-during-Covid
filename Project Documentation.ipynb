{
 "cells": [
  {
   "cell_type": "markdown",
   "id": "77ed8942-000b-46ac-83b2-d187c075b0ea",
   "metadata": {},
   "source": [
    " # Documentation"
   ]
  },
  {
   "cell_type": "markdown",
   "id": "35475d53-70ad-4471-9f9e-e16ccc1f5f2a",
   "metadata": {},
   "source": [
    "Here I will talk about the data sources, their validity, the reasons why I chose them, their purpose for this project, their difficulties in terms of wrangling, the techniques I used, what it achieved and not achieved and extension for this project."
   ]
  },
  {
   "cell_type": "markdown",
   "id": "f911a4dc-bd6a-4b49-b36a-ece4250c4f10",
   "metadata": {},
   "source": [
    "### A. Data sources used \n",
    "\n",
    "I used three data sources.\n",
    "\n",
    "The first data source is from Stats NZ API https://api.stats.govt.nz/?_ga=2.261191951.305183648.1635350833-1531117190.1632453643. I used two datasets from here: ‘Filled jobs by regional council’ and ‘Overseas cargo exports and imports by New Zealand port’.\n",
    " \n",
    "The second data source is from Wikepedia https://en.wikipedia.org/wiki/Tourism_in_New_Zealand where I got our  table called ‘The top countries for international visitor arrivals to New Zealand’.\n",
    "\n",
    "The third data source is from Wikipedia https://en.wikipedia.org/wiki/Economy_of_New_Zealand. I got a table from this as well called ‘Gross domestic product trend of New Zealand, at market prices estimated by the International Monetary Fund’.\n"
   ]
  },
  {
   "cell_type": "markdown",
   "id": "ad8c28fd-4f4e-4fcb-b172-2f59caabef66",
   "metadata": {},
   "source": [
    "### B. Reasons for choosing mentioned data sources \n",
    "\n",
    "I used Stats NZ API as they are New Zealand’s national statistics office. I am sure that the datasets from here are credible and valid.\n",
    "For example, the ‘Filled jobs by regional council’ dataset is actually from Inland Revenue.\n",
    "\n",
    "The second and third datasource are also credible and valid as they are from trusted sources. For example, the second datasource uses sources like Tourism New Zealand and the third datasource uses sources like the International Monetary Fund.\n",
    "\n",
    "In addition, both data sources also have a ‘lock’ symbol at the top left beside the link which indicates that it is not available for public edit. They are also updated regularly e.g second datasource is updated on September 6, 2021 and the third datasource is updated on October 10, 2021.\n",
    "\n",
    "In terms of ethical reasons, all data sources are available for public use and recreation so there is no violation of any privacy restrictions.\n"
   ]
  },
  {
   "cell_type": "markdown",
   "id": "b85fb34e-25c3-4122-8e2e-7a64e6e96f56",
   "metadata": {},
   "source": [
    "### C. Purpose for mentioned data sources?\n",
    "\n",
    "For the first two datasets from STATS NZ, the purpose for the ‘Filled jobs by regional council’ dataset is to create a model of the ‘Total number of Filled Jobs (2019-2020)’ and the intended use of the data is to show that the total number of filled jobs was affected during Covid in 2019-2020. \n",
    "\n",
    "The purpose for the ‘Overseas cargo exports and imports by New Zealand port’ dataset is to calculate net export from this dataset to create a model for the ‘Net export (2019-2020)’. The intended use of this to show that net export was affected during Covid 2019-2020.\n",
    "\n",
    "The last two datasets come from Wikipedia. The purpose for the ‘The top countries for international visitor arrivals to New Zealand’ dataset is to create a model for ‘Annual Number of Overseas Tourists (2016-2020)’. The intended use for this is to see the trend up until 2019 and compare that trend upto 2020 to see if Covid affected the annual number of tourists.\n",
    "\n",
    "The purpose for the ‘Gross domestic product trend of New Zealand, at market prices estimated by the International Monetary Fund’ is to create a model for the ‘GDP of New Zealand (2016-2020)’. The use for this is to determine if Covid affected the GDP in 2020 and to see how it compares to 2019.\n",
    "\n",
    "Thye overall purpose of this is to combine all dataset into one relational dataset.\n",
    "This part would answer our main question  “which factor affected the NZ's GDP during Covid?”\n"
   ]
  },
  {
   "cell_type": "markdown",
   "id": "92830836-31b2-44c6-87c7-7580dbcf4546",
   "metadata": {},
   "source": [
    "### D. Difficulties I had to overcome to wrangle the data sources into the desired data model\n",
    "\n",
    "For the first two datasets (filled jobs and net export),  the difficulty is using Stats NZ API to get the datasets. I needed to learn how to get access to it and how to navigate the columns and use it.\n",
    "\n",
    "The first dataset ‘Total number of Filled Jobs (2019-2020)’ was a bit challenging to wrangle. \n",
    "\n",
    "The second dataset ‘Net export (2019-2020)’ was difficult as net export is export - import so I needed to create a separate table for each. The values for export and import are in the same column. \n",
    "\n",
    "For the third dataset, I needed to web scrape quite differently to what was taught in class because the table that we want is in a list of lists. \n",
    "\n",
    "For the fourth dataset, webscraping is needed for this one and there are lots of null values in the table. However, it was pretty straightforward so no difficulties on this one.\n",
    "\n",
    "The relational dataset was quite challenging to do as it needed all of datasets to have the one column with the same name and class so they can be linked.\n"
   ]
  },
  {
   "cell_type": "markdown",
   "id": "80b75490-fb7a-4a5b-adfa-b16a182338af",
   "metadata": {},
   "source": [
    "### E. Techniques used\n",
    "\n",
    "I used an API for the first two datasets and web-scraping for the remaining datasets.\n",
    "\n",
    "For the API, I had to make an account to get the subscription key then use that to access the open data catalogue. Then specify the Catalogue name and the Resource ID for the necessary dataset.\n",
    "\n",
    "The techniques I used to fix the first dataset are filter(), is.na(), group_by(), summarise() and sum().\n",
    "\n",
    "For the second dataset, because I wanted the net export, I had to create two new data frames called import and export. Then combine them into one data frame via left_join() so we could apply export-import for every row. Followed by applying filter(), is.na(), group_by(),  summarise(), sum(), mutate(), ymd() and select().\n",
    "\n",
    "To fix the problem for the third dataset, I had to use a different css selector and then index to that table to get the desired table. In addition, the data frame is in a wide format so converting it into a long format was needed for easy wrangling. Techniques applied here are na.omit(), group_by(), rename(), filter(), select() and as.numeric() .\n",
    "\n",
    "The fourth dataset has many null values however these null values are in the columns that aren't necessary. So, I simply passed in select() then filter(). The operations rename() and as.numeric() were also utilised\n",
    "\n",
    "For the relational dataset, I had to rename the column ‘year’ into ‘Year’ and keep the class in <dbl>. I had to use mutate(), ymd(), filter(), group_by(), summarise() and mean(), then left_join every dataframe by column/key ‘Year’. \n",
    "\n",
    "Finally, Tproduced a plot for every data frame using ggplot().\n"
   ]
  },
  {
   "cell_type": "markdown",
   "id": "20bc1ab2-c0a1-4308-a3c1-a640c681c961",
   "metadata": {},
   "source": [
    "### F. Managed to achieve and what I failed to do\n",
    "\n",
    "I managed to prove that total filled jobs, net export, tourist number and GDP were all affected by Covid. In return, we also managed to answer our main question. \n",
    "\n",
    "Our goal for this project is to get all the datasets online via API, web-scraping or using a link address that automatically downloads the dataset when passed in read_csv(). I managed to do the first two, but the last one were not successful. I found a dataset about the number of tourists annually, but that dataset is missing the year 2019 and 2020 which is our focus. However, I managed to find the right dataset for tourist numbers with the year 2019 and 2020. As a result, I have utilised APIs and web scraping for this project. \n",
    "\n",
    "In addition, I was aware that there were also domestic tourists, but didn’t include them as it is very hard to find the dataset for them. I would have to get a dataset for every region then join them. Additionally, domestic tourists can travel by car, train or bus and that’s usually not recorded. For example, I can go to Queenstown by car without being recorded and I’m still considered a tourist. Therefore, i settled with using the number of overseas tourists as their number is recorded, the dataset was available and I thought they were significantly affected as they cannot travel to NZ due to closed borders.\n"
   ]
  },
  {
   "cell_type": "markdown",
   "id": "12b8d985-757b-427a-9568-c10eef97dce4",
   "metadata": {},
   "source": [
    "### G. Extension\n",
    "\n",
    "If there is more time, the next step for this project is to actually look at the individual region as every region responds differently to different factors. For example, the effect of the loss of tourists would be completely different in Otago (Queenstown city) region than in Canterbury.   \n",
    "\n",
    "In addition, it would be interesting to know what other factors affected the economy during Covid. It would be interesting to do some predictions as well e.g. if GDP would continue to decrease in the year 2021. \n"
   ]
  }
 ],
 "metadata": {
  "kernelspec": {
   "display_name": "R",
   "language": "R",
   "name": "ir"
  },
  "language_info": {
   "codemirror_mode": "r",
   "file_extension": ".r",
   "mimetype": "text/x-r-source",
   "name": "R",
   "pygments_lexer": "r",
   "version": "4.4.0"
  }
 },
 "nbformat": 4,
 "nbformat_minor": 5
}
